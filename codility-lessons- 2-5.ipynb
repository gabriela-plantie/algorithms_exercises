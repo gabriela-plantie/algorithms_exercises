{
 "cells": [
  {
   "cell_type": "code",
   "execution_count": null,
   "metadata": {},
   "outputs": [],
   "source": [
    "https://app.codility.com/programmers/lessons\n"
   ]
  },
  {
   "cell_type": "code",
   "execution_count": 2,
   "metadata": {},
   "outputs": [],
   "source": [
    "#2.1  CyclicRotation\n",
    "def solution(A, K):\n",
    "    \n",
    "    # write your code in Python 3.6\n",
    "    if (len(A) % K == 0) or (len(A)==0):\n",
    "        return A\n",
    "    \n",
    "    if K > len(A):\n",
    "        i = len(A) - (K % len(A))\n",
    "\n",
    "    if K < len(A):\n",
    "        i = len(A)-K \n",
    "\n",
    "    return A[i:]  + A[:i]     "
   ]
  },
  {
   "cell_type": "code",
   "execution_count": 3,
   "metadata": {},
   "outputs": [
    {
     "name": "stdout",
     "output_type": "stream",
     "text": [
      "[1, 2, 3]\n",
      "[3, 1, 2]\n",
      "[1, 2, 3]\n",
      "[3, 1, 2]\n",
      "[]\n"
     ]
    }
   ],
   "source": [
    "\n",
    "print(solution(A,1))\n",
    "print(solution(A,4))\n",
    "print(solution(A,6))\n",
    "print(solution(A,7))\n",
    "print(solution([],7))\n"
   ]
  },
  {
   "cell_type": "code",
   "execution_count": 49,
   "metadata": {},
   "outputs": [],
   "source": [
    "\n",
    "#2.2 OddOccurrencesInArray\n",
    "def solution (A):\n",
    "    len_a = len(A)\n",
    "    \n",
    "    if len_a == 1:\n",
    "        return A[0]\n",
    "\n",
    "    keep_numbers = {}\n",
    "    \n",
    "    for i in range(len_a):\n",
    "        #print('i: ' +str(i))\n",
    "        num = A[i]\n",
    "        #print(num)\n",
    "        if (i>0) and (num in keep_numbers ):\n",
    "            keep_numbers.pop(num)\n",
    "        else:\n",
    "            keep_numbers[num] = 1\n",
    "    \n",
    "    return  [key for key in keep_numbers.keys()][0]\n",
    "\n",
    "\n"
   ]
  },
  {
   "cell_type": "code",
   "execution_count": 54,
   "metadata": {},
   "outputs": [
    {
     "data": {
      "text/plain": [
       "[1]"
      ]
     },
     "execution_count": 54,
     "metadata": {},
     "output_type": "execute_result"
    }
   ],
   "source": [
    "\n",
    "A = [1,2,1,2,7,3,9,4,4,3,9] #7\n",
    "A = [1] #1\n",
    "#A = [1,1,2] #2\n",
    "#A = [1,1,1]#1\n",
    "\n",
    "solution(A)\n"
   ]
  },
  {
   "cell_type": "code",
   "execution_count": 60,
   "metadata": {},
   "outputs": [],
   "source": [
    "#FrogJmp\n",
    "def solution(X,Y,D):\n",
    "    import math\n",
    "    if X==Y:\n",
    "        return 0\n",
    "    if Y > X:\n",
    "        return math.ceil((Y-X)/D) "
   ]
  },
  {
   "cell_type": "code",
   "execution_count": null,
   "metadata": {},
   "outputs": [],
   "source": [
    "#3.1\n",
    "[1,3,1] # 2\n",
    "[1,3,2] # 1\n",
    "[0,5,2] # 3\n",
    "[0,0,1] # 0\n",
    "[3,3,4] # 0"
   ]
  },
  {
   "cell_type": "code",
   "execution_count": 62,
   "metadata": {},
   "outputs": [
    {
     "name": "stdout",
     "output_type": "stream",
     "text": [
      "2\n",
      "1\n",
      "3\n",
      "0\n",
      "0\n",
      "1\n"
     ]
    }
   ],
   "source": [
    "print(solution(1,3,1))\n",
    "print(solution(1,3,2))\n",
    "print(solution(0,5,2))\n",
    "print(solution(0,0,1))\n",
    "print(solution(3,3,4))\n",
    "print(solution(3,6,4))"
   ]
  },
  {
   "cell_type": "code",
   "execution_count": null,
   "metadata": {},
   "outputs": [],
   "source": [
    "#3.2\n",
    "#PermMissingElem\n",
    "[1,3,2,5] #4\n",
    "[1,3] #2\n",
    "[1] #2\n",
    "[2] #1\n",
    "\n"
   ]
  },
  {
   "cell_type": "code",
   "execution_count": 87,
   "metadata": {},
   "outputs": [],
   "source": [
    "def solution(A):\n",
    "    len_a = len(A)\n",
    "    sum_a = sum(A)\n",
    "    #if (len_a == 1) and sum_a==1:\n",
    "    #    return 2  \n",
    "    teo_sum_a = (len_a * (len_a+1) )/2\n",
    "    #print(teo_sum_a)\n",
    "    #print(sum_a)\n",
    "    return int ((teo_sum_a - sum_a) + (len_a+1))"
   ]
  },
  {
   "cell_type": "code",
   "execution_count": 89,
   "metadata": {},
   "outputs": [
    {
     "name": "stdout",
     "output_type": "stream",
     "text": [
      "3.0\n",
      "2.0\n",
      "2.0\n",
      "1.0\n",
      "2.0\n"
     ]
    }
   ],
   "source": [
    "print(solution([1,2,4])) #3\n",
    "print(solution([1,3])) #2\n",
    "print(solution([1])) #2\n",
    "print(solution([2])) #1\n",
    "print(solution([1,4,3,5]))#2"
   ]
  },
  {
   "cell_type": "code",
   "execution_count": null,
   "metadata": {},
   "outputs": [],
   "source": [
    "#3.3 TapeEquilibrium\n",
    "#0<P<N (P es el primer elem q esta en el 2do lado)\n",
    "\n",
    "A = [1,3,4,1] # P = 2 (4, 5) --> |-1| = 1\n",
    "A = [-3,1,3] # P = 1 (-3, 4) --> |-7| = 7\n",
    "\n",
    "\n",
    "A = [0, 0] # P = 1, 0 #len(A) == 2 --> P = 1\n",
    "A = [-1, -3] # P= 1 --> 2\n",
    "\n",
    "\n",
    "\n"
   ]
  },
  {
   "cell_type": "code",
   "execution_count": 122,
   "metadata": {},
   "outputs": [],
   "source": [
    "def solution(A):\n",
    "    len_a = len(A)\n",
    "    sum_a = sum(A)\n",
    "    sum_left = A[0]\n",
    "    sum_right = sum(A[1:len_a])\n",
    "    \n",
    "    if len_a == 2:\n",
    "        return abs(A[0] - A[1])\n",
    "\n",
    "    for i in range(len_a-1):\n",
    "        i = i+1\n",
    "        dif = abs(sum_left-sum_right)\n",
    "        \n",
    "        if i == 1:\n",
    "            min_dif = dif\n",
    "        if dif < min_dif:\n",
    "            min_dif = dif\n",
    "        \n",
    "        elem = A[i]\n",
    "        #print('elem: '+str(elem))\n",
    "        sum_left += elem\n",
    "        #print('sum_left: '+str(sum_left))\n",
    "        sum_right += (-elem)\n",
    "        #print('sum_right: '+ str(sum_right))\n",
    "          \n",
    "    return min_dif\n",
    "\n"
   ]
  },
  {
   "cell_type": "code",
   "execution_count": 123,
   "metadata": {},
   "outputs": [
    {
     "name": "stdout",
     "output_type": "stream",
     "text": [
      "0\n",
      "2\n",
      "4\n",
      "1\n",
      "5\n",
      "1\n",
      "0\n"
     ]
    }
   ],
   "source": [
    "A = [0, 0] # P = 1, 0 \n",
    "print(solution(A))\n",
    "A = [-1, -3] # P= 1 --> 2\n",
    "print(solution(A))\n",
    "A = [1, -3] # P= 1 --> 4\n",
    "print(solution(A))\n",
    "\n",
    "\n",
    "A = [1,3,4,1] # P = 2 (4, 5) --> |-1| = 1\n",
    "print(solution(A))\n",
    "A = [-3,1,3] # P (-2, 3) --> |-5| = 5\n",
    "print(solution(A))\n",
    "\n",
    "A = [5,1,3] # 1\n",
    "print(solution(A))\n",
    "\n",
    "A = [2,1,3] # 0\n",
    "print(solution(A))\n",
    "\n",
    "\n"
   ]
  },
  {
   "cell_type": "code",
   "execution_count": 142,
   "metadata": {},
   "outputs": [],
   "source": [
    "#4.1 FrogRiverOne\n",
    "\n",
    "A = [3,2,2,3,1,2,1] # X=3  (siempre va a ser el maximo de los que caen ) --> 4 (cuenta el 0)\n",
    "A = [1,2,3,5,4,2,1,2] # X=5 --> 4 \n",
    "A = [1,1,1,1] # X=1 --> 0 \n",
    "A = [1] # X=1 --> 0\n",
    "A = [1,2,3,4,2,1,2,5] # X=5 --> 7 \n",
    "A = [1,2,3,4] # X=5 --> -1 \n",
    "A = [1,2,3,5] # X=5 --> -1 \n",
    "A = [2] # X=1 --> -1\n",
    "\n",
    "\n",
    "def solution(X, A):\n",
    "    dist = set()\n",
    "    for i in range(len(A)):\n",
    "        elem = A[i]\n",
    "        if elem<=X:\n",
    "            dist.add(A[i])\n",
    "            #print(dist)\n",
    "            if len(dist) == X:\n",
    "                return i\n",
    "    return -1\n",
    "\n",
    "\n"
   ]
  },
  {
   "cell_type": "code",
   "execution_count": 143,
   "metadata": {},
   "outputs": [
    {
     "name": "stdout",
     "output_type": "stream",
     "text": [
      "4\n",
      "4\n",
      "0\n",
      "0\n",
      "7\n",
      "-1\n",
      "-1\n",
      "-1\n"
     ]
    }
   ],
   "source": [
    "\n",
    "print(solution(A = [3,2,2,3,1,2,1] , X=3))    #4\n",
    "print(solution(A = [1,2,3,5,4,2,1,2] , X=5))   #4 \n",
    "print(solution(A = [1,1,1,1] , X=1))    #0\n",
    "\n",
    "print(solution(A = [1] , X=1) )   #0\n",
    "print(solution(A = [1,2,3,4,2,1,2,5] , X=5)) #7   \n",
    "\n",
    "print(solution(A = [1,2,3,4] , X=5)) #-1     \n",
    "print(solution(A = [1,2,3,5] , X=5)) # -1\n",
    "print(solution(A = [2] , X=1)) # -1\n"
   ]
  },
  {
   "cell_type": "code",
   "execution_count": 154,
   "metadata": {},
   "outputs": [],
   "source": [
    "#4.2 MaxCounters\n",
    "\n",
    "# N = q_counters --> V=[0*N] \n",
    "# q_operations = len(A) = M\n",
    "# i_operation = si A[i]<= q_counters -->  V[ A[i]-1 ] = V[ A[i]-1 ] +1\n",
    "#               si A[i]> q_counters --> V = max(V)    \n",
    "\n",
    "\n",
    "A = [1,3,4,1] # N=3, [2,1,1]\n",
    "A = [1,1] # N=3,   [1,1,0]\n",
    "A = [1,3,4,1] # N=3, [2,1,1]\n",
    "\n",
    "  \n",
    "\n",
    "\n",
    "def solution(N, A):\n",
    "    print('_________________')\n",
    "    q_counters = N\n",
    "    operations = A\n",
    "    q_operations = len(operations)\n",
    "    V = [0] * q_counters\n",
    "\n",
    "    for i in range(q_operations):\n",
    "        operation = operations[i] \n",
    "        if operation <= q_counters:\n",
    "            V[operation-1] = V[operation-1] + 1\n",
    "        if operation == q_counters + 1:\n",
    "            V = [max(V)] * q_counters    \n",
    "        print(V) \n",
    "    return V\n",
    "\n",
    "## falla por performance ( result 66%)\n"
   ]
  },
  {
   "cell_type": "code",
   "execution_count": 163,
   "metadata": {},
   "outputs": [
    {
     "name": "stdout",
     "output_type": "stream",
     "text": [
      "_________________\n",
      "[1, 0, 0]\n",
      "[1, 0, 1]\n",
      "[1, 1, 1]\n",
      "[2, 1, 1]\n",
      "[2, 1, 1]\n",
      "_________________\n",
      "[1, 0, 0]\n",
      "[2, 0, 0]\n",
      "[2, 0, 0]\n",
      "_________________\n",
      "[1, 0, 0, 0]\n",
      "[1, 0, 1, 0]\n",
      "[1, 0, 1, 1]\n",
      "[2, 0, 1, 1]\n",
      "[2, 0, 1, 1]\n",
      "_________________\n",
      "[1, 0, 0, 0]\n",
      "[1, 0, 1, 0]\n",
      "[1, 0, 2, 0]\n",
      "[1, 0, 2, 1]\n",
      "[2, 2, 2, 2]\n",
      "[2, 2, 2, 2]\n",
      "_________________\n",
      "[0, 0, 0, 0]\n",
      "[0, 0, 0, 0]\n",
      "_________________\n",
      "[0]\n",
      "_________________\n",
      "[0, 0, 0]\n",
      "_________________\n",
      "[0, 0, 0]\n",
      "[0, 0, 0]\n"
     ]
    }
   ],
   "source": [
    "print(solution(N=3, A=[1,3,4,1]))\n",
    "print(solution(N=3, A=[1,1]))\n",
    "print(solution(N=4, A=[1,3,4,1]))\n",
    "print(solution(N=4, A=[1,3,3,4,5]))\n",
    "print(solution(N=4, A=[5]))\n",
    "print(solution(N=1, A=[]))\n",
    "print(solution(N=3, A=[]))\n",
    "print(solution(N=3, A=[5]))\n"
   ]
  },
  {
   "cell_type": "code",
   "execution_count": 238,
   "metadata": {},
   "outputs": [],
   "source": [
    "\n",
    "def solution(N, A):\n",
    "    #print('_________________'+ str(A)+ ' ' + str(N))\n",
    "    q_counters = N\n",
    "    operations = A\n",
    "    q_operations = len(operations)\n",
    "    V = {}\n",
    "    maxim =0\n",
    "    last_max_applied= 0\n",
    "\n",
    "\n",
    "    for i in range(q_operations):\n",
    "        operation = operations[i] \n",
    "        #print( 'operation: ' + str(operation) )\n",
    "        # sum\n",
    "        if operation <= q_counters:\n",
    "            \n",
    "            if (operation-1) in V:\n",
    "                #print(V)\n",
    "                prev_value = V[operation-1]\n",
    "            else:\n",
    "                prev_value = last_max_applied \n",
    "\n",
    "            if prev_value < last_max_applied:\n",
    "                new_value =  last_max_applied + 1\n",
    "            else:     \n",
    "                new_value =  prev_value + 1\n",
    "            \n",
    "            #update maxim\n",
    "            if new_value > maxim:\n",
    "                maxim = new_value\n",
    "\n",
    "            #update dict\n",
    "            V[operation-1] = new_value\n",
    "        \n",
    "        # max \n",
    "        if operation == q_counters + 1:\n",
    "            #for key in V:\n",
    "            #    V[key] = maxim\n",
    "            last_max_applied = maxim \n",
    "            \n",
    "\n",
    "        #print(V) \n",
    "    # transform dict to array\n",
    "    res = [last_max_applied] * q_counters\n",
    "    list_existing_keys = [key for key in V]\n",
    "    for key in list_existing_keys:\n",
    "        res[key] = max(last_max_applied, V[key])\n",
    "    \n",
    "   \n",
    "    \n",
    "\n",
    "    return res"
   ]
  },
  {
   "cell_type": "code",
   "execution_count": 239,
   "metadata": {},
   "outputs": [
    {
     "name": "stdout",
     "output_type": "stream",
     "text": [
      "[2, 1, 1]\n",
      "[2, 0, 0]\n",
      "[1, 1, 1]\n",
      "[2, 0, 1, 1]\n",
      "[2, 2, 2, 2]\n",
      "[0, 0, 0, 0]\n",
      "[0]\n",
      "[0, 0, 0]\n",
      "[0, 0, 0]\n",
      "[0, 0, 0]\n"
     ]
    }
   ],
   "source": [
    "print(solution(N=3, A=[1,3,4,1]))\n",
    "print(solution(N=3, A=[1,1]))\n",
    "print(solution(N=3, A=[1,4]))\n",
    "print(solution(N=4, A=[1,3,4,1]))\n",
    "print(solution(N=4, A=[1,3,3,4,5]))\n",
    "print(solution(N=4, A=[5]))\n",
    "print(solution(N=1, A=[]))\n",
    "print(solution(N=3, A=[]))\n",
    "print(solution(N=3, A=[5]))\n",
    "print(solution(N=3, A=[4]))\n",
    "\n",
    "#[2, 1, 1]\n",
    "#[2, 0, 0]\n",
    "#[1, 1, 1]\n",
    "#[2, 0, 1, 1]\n",
    "#[2, 2, 2, 2]\n",
    "#[0, 0, 0, 0]\n",
    "#[0]\n",
    "#[0, 0, 0]\n",
    "#[0, 0, 0]\n",
    "#[0, 0, 0]\n"
   ]
  },
  {
   "cell_type": "code",
   "execution_count": 266,
   "metadata": {},
   "outputs": [],
   "source": [
    "# 4.3 MissingInteger\n",
    "l = [4,3,1,2]\n",
    "import heapq as h\n",
    "h.heapify(l)\n",
    "\n"
   ]
  },
  {
   "cell_type": "code",
   "execution_count": 267,
   "metadata": {},
   "outputs": [
    {
     "name": "stdout",
     "output_type": "stream",
     "text": [
      "1\n",
      "[2, 3, 4]\n",
      "None\n",
      "[1, 2, 4, 3]\n",
      "None\n",
      "[1, 2, 4, 3, 2]\n"
     ]
    }
   ],
   "source": [
    "print(h.heappop(l))\n",
    "print(l)\n",
    "print(h.heappush(l,1))\n",
    "print(l)\n",
    "print(h.heappush(l,2))\n",
    "print(l)"
   ]
  },
  {
   "cell_type": "code",
   "execution_count": null,
   "metadata": {},
   "outputs": [],
   "source": [
    "[1,4,2,5] #3\n",
    "[2,1,2,5] #3\n",
    "[5,2,4] #1\n",
    "[-1, -3] # 1\n",
    "[-1] #1\n",
    "#[] #1"
   ]
  },
  {
   "cell_type": "code",
   "execution_count": 362,
   "metadata": {},
   "outputs": [],
   "source": [
    "def solution(A):\n",
    "    #print('---------------------------')\n",
    "    import heapq\n",
    "    input_vector = A\n",
    "    len_input = len(input_vector)\n",
    "    max_ordered = 0\n",
    "    heap = []\n",
    "\n",
    "    for i in range(len_input):\n",
    "\n",
    "        value = input_vector[i] \n",
    "         \n",
    "        if value == max_ordered + 1:\n",
    "            max_ordered = max_ordered + 1\n",
    "        else:\n",
    "            if value > max_ordered + 1:\n",
    "                heapq.heappush(heap, value)\n",
    "        \n",
    "        if len(heap)>0:\n",
    "            min_elem_heap = heap[0]\n",
    "            #print('heap' + str(heap))\n",
    "            #print('min_elem_heap: ' + str(min_elem_heap))\n",
    "            #print('max_ordered: ' + str(max_ordered))\n",
    "\n",
    "            while min_elem_heap == max_ordered + 1:\n",
    "                min_elem_heap = heapq.heappop(heap)\n",
    "                max_ordered = min_elem_heap\n",
    "                #print('new max_ordered from heap: ' + str(max_ordered))\n",
    "                #print('heap---- : ' +str(heap))\n",
    "                \n",
    "                while (len(heap)>0) and (heap[0] <= max_ordered) :\n",
    "                    heapq.heappop(heap)\n",
    "                    #print('------heap: ' + str(heap))\n",
    "\n",
    "                #print('max_ordered: ' + str(max_ordered))\n",
    "                if len(heap)>0:\n",
    "                    min_elem_heap = heap[0]\n",
    "         \n",
    "    min_missing_int = max_ordered +1\n",
    "\n",
    "    return  min_missing_int       \n",
    "\n"
   ]
  },
  {
   "cell_type": "code",
   "execution_count": 364,
   "metadata": {},
   "outputs": [
    {
     "name": "stdout",
     "output_type": "stream",
     "text": [
      "5\n",
      "3\n",
      "3\n",
      "1\n",
      "4\n",
      "2\n",
      "4\n",
      "5\n",
      "1\n",
      "1\n",
      "1\n",
      "8\n",
      "10\n"
     ]
    }
   ],
   "source": [
    "\n",
    "print(solution([4,2,3,1])) #5\n",
    "print(solution([1,4,2,5])) #3\n",
    "print(solution([2,1,2,5])) #3\n",
    "print(solution([5,5,5,5])) #1\n",
    "print(solution([1,1,2,3,3])) #4\n",
    "\n",
    "print(solution([-1,-1,1,-1,-1])) #2\n",
    "print(solution([5,-1,1,2,3])) #4\n",
    "print(solution([1,3,4,2])) #5\n",
    "\n",
    "print(solution([5,2,4])) #1\n",
    "print(solution([-1, -3])) # 1\n",
    "print(solution([-1])) #1\n",
    "[] #1)\n",
    "\n",
    "print(solution([5,-1,1,2,3,-100,7,4,1,2,6])) #8\n",
    "print(solution([0,9,7,8,6,5,4,3,2,1])) #10"
   ]
  },
  {
   "cell_type": "code",
   "execution_count": 398,
   "metadata": {},
   "outputs": [],
   "source": [
    "#4.4 PermCheck\n",
    "def solution(A):\n",
    "    print('________________')\n",
    "    input_vector = A\n",
    "    print('inpupt: '+ str(input_vector))\n",
    "    \n",
    "    len_input = len(input_vector)\n",
    "    list_inferior = []\n",
    "  \n",
    "    len_list_inferior = 0\n",
    "    for i in range(len_input):\n",
    "        elem = input_vector[i]\n",
    "        if elem > len_input:\n",
    "            return 0 #out of range\n",
    "        else:\n",
    "\n",
    "            if len_list_inferior <= len_input:\n",
    "                list_inferior.append(elem)\n",
    "                len_list_inferior += 1\n",
    "            if len_list_inferior > len_input:\n",
    "                print('entra')\n",
    "                return 0 #repeated \n",
    "    len_set_inferior = len(set(list_inferior))\n",
    "    #print('list_inferior: ' +  str(list_inferior))\n",
    "    #print('len_set_inferior: ' + str(len_set_inferior))\n",
    "    if  len_set_inferior == len_input:\n",
    "        return 1 \n",
    "    if len_set_inferior < len_input:\n",
    "        return 0   # reapeated"
   ]
  },
  {
   "cell_type": "code",
   "execution_count": 402,
   "metadata": {},
   "outputs": [
    {
     "name": "stdout",
     "output_type": "stream",
     "text": [
      "________________\n",
      "inpupt: [1, 2, 3]\n",
      "1\n",
      "________________\n",
      "inpupt: [1, 3, 2]\n",
      "1\n",
      "________________\n",
      "inpupt: [1, 3, 3]\n",
      "0\n",
      "________________\n",
      "inpupt: [1, 2, 2]\n",
      "0\n",
      "________________\n",
      "inpupt: [1, 1, 2]\n",
      "0\n",
      "________________\n",
      "inpupt: [1, 1, 1]\n",
      "0\n",
      "________________\n",
      "inpupt: [2, 2]\n",
      "0\n",
      "________________\n",
      "inpupt: [1]\n",
      "1\n",
      "________________\n",
      "inpupt: [2]\n",
      "0\n"
     ]
    }
   ],
   "source": [
    "print(solution([1,2,3])) #1\n",
    "print(solution([1,3,2])) #1\n",
    "print(solution([1,3,3])) #0\n",
    "print(solution([1,2,2])) #0\n",
    "print(solution([1,1,2])) #0\n",
    "print(solution([1,1,1])) #0\n",
    "print(solution([2,2])) #0\n",
    "print(solution([1])) #1\n",
    "print(solution([2])) #0\n"
   ]
  },
  {
   "cell_type": "code",
   "execution_count": null,
   "metadata": {},
   "outputs": [],
   "source": [
    "#5.1 CountDiv\n",
    "A= 7 B= 10 K=3  ---> 1 (el 9)\n",
    "A= 5 B =6 K=2 --> 1 (el 6)\n",
    "A=5 B=13 K=2 --> 4 (6,8,10,12)\n",
    "\n"
   ]
  },
  {
   "cell_type": "code",
   "execution_count": 439,
   "metadata": {},
   "outputs": [],
   "source": [
    "def solution(A, B, K):\n",
    "    import math\n",
    "    lim_inf = A\n",
    "    lim_sup = B\n",
    "    divisor = K\n",
    "\n",
    "    if (lim_sup < divisor) and (lim_inf > 0):\n",
    "        return 0\n",
    "    \n",
    "    ratio = lim_inf / divisor\n",
    "    decimal_part =  ratio - math.floor(ratio)\n",
    "    #print(decimal_part)\n",
    "    if decimal_part == 0:\n",
    "        first_multiple = lim_inf\n",
    "    else :    \n",
    "        first_multiple =  divisor * (1- decimal_part) + lim_inf \n",
    "    #print(lim_sup)\n",
    "    #print(first_multiple)\n",
    "    \n",
    "    #if lim_inf == 0:\n",
    "    #    trivial_case = 1 \n",
    "\n",
    "    return math.floor((lim_sup - first_multiple)/divisor) + 1 \n",
    "\n"
   ]
  },
  {
   "cell_type": "code",
   "execution_count": 440,
   "metadata": {},
   "outputs": [
    {
     "name": "stdout",
     "output_type": "stream",
     "text": [
      "1\n",
      "2\n",
      "1\n",
      "1\n",
      "1\n",
      "2\n",
      "2\n",
      "1\n"
     ]
    }
   ],
   "source": [
    "print(solution(7,10,3))#1\n",
    "print(solution(7,12,3))#2\n",
    "print(solution(9,10,3))#1\n",
    "print(solution(9,9,3))#1\n",
    "print(solution(7,9,3))#1\n",
    "print(solution(6,9,3))#2\n",
    "print(solution(0,3,3))#2\n",
    "print(solution(0,3,4))#1 #el 0 es multiplo de todos (e resto da 0)"
   ]
  },
  {
   "cell_type": "code",
   "execution_count": 505,
   "metadata": {},
   "outputs": [],
   "source": [
    "#4.2 GenomicRange\n",
    "\n",
    "def solution(S,P,Q):\n",
    "    string = S\n",
    "    qs_inf = P \n",
    "    qs_sup = Q\n",
    "    n_queries = len(qs_inf)\n",
    "    list_mins = []\n",
    "    factors = {'A': 1, 'C': 2, 'G': 3, 'T': 4}\n",
    "    min_factor = 4\n",
    " \n",
    "    for i in range(n_queries):\n",
    "        q_inf = qs_inf[i]\n",
    "        q_sup = qs_sup[i]\n",
    "        fragment = string[q_inf: (q_sup+1)]\n",
    "        list_mins.append( calc_min_factor(fragment, factors, min_factor))\n",
    "    return list_mins\n",
    "\n",
    "\n",
    "def calc_min_factor(fragment, factors, min_factor):\n",
    "    len_fragment = len(fragment) \n",
    "    if len_fragment == 1:\n",
    "        return factors[fragment[0]]\n",
    "\n",
    "\n",
    "    set_fragment = set(fragment) ## si son todos GGGGGGGG...GGGGG \n",
    "    len_set_fragment = len(set_fragment)\n",
    "    if len_set_fragment == 1:\n",
    "        return factors[min(set_fragment)]#min to pass it to number\n",
    "\n",
    "    list_set_fragment = list(set_fragment)\n",
    "    #print('len_set_fragment: ' + str(len_set_fragment))   \n",
    "\n",
    "    for j in range(len_set_fragment):\n",
    "        new_string = list_set_fragment[j]\n",
    "        #print('new_string: ' + str(new_string))\n",
    "        new_factor = factors[new_string]\n",
    "        #print('new_factor: ' + str(new_factor))\n",
    "        if new_string == 'A':\n",
    "            return 1\n",
    "        if  new_factor < min_factor:\n",
    "            min_factor = new_factor\n",
    "        #print('min_factor: ' + str(min_factor))\n",
    "    return min_factor \n",
    "\n",
    "\n"
   ]
  },
  {
   "cell_type": "code",
   "execution_count": 500,
   "metadata": {},
   "outputs": [
    {
     "data": {
      "text/plain": [
       "1"
      ]
     },
     "execution_count": 500,
     "metadata": {},
     "output_type": "execute_result"
    }
   ],
   "source": [
    "set({1})[0]"
   ]
  },
  {
   "cell_type": "code",
   "execution_count": 506,
   "metadata": {},
   "outputs": [
    {
     "name": "stdout",
     "output_type": "stream",
     "text": [
      "2\n",
      "1\n",
      "1\n",
      "1\n",
      "4\n"
     ]
    }
   ],
   "source": [
    "\n",
    "\n",
    "factors = {'A': 1, 'C': 2, 'G': 3, 'T': 4}\n",
    "min_factor = 4\n",
    "print(calc_min_factor(['T', 'C', 'T', 'G', 'C'], factors, min_factor))#2\n",
    "print(calc_min_factor(['T', 'C', 'T', 'A', 'G'], factors, min_factor))#1\n",
    "print(calc_min_factor(['T', 'C', 'T', 'T', 'A'], factors, min_factor))#1\n",
    "print(calc_min_factor(['A'], factors, min_factor))#1\n",
    "print(calc_min_factor(['T'], factors, min_factor))#4\n"
   ]
  },
  {
   "cell_type": "code",
   "execution_count": 507,
   "metadata": {},
   "outputs": [
    {
     "name": "stdout",
     "output_type": "stream",
     "text": [
      "[4, 2, 1, 4, 4]\n",
      "[2, 1, 1, 4, 4]\n",
      "[1, 2, 4, 1, 1]\n"
     ]
    }
   ],
   "source": [
    "\n",
    "print(solution(P =[0,1,2,3,4], Q=[0,1,2,3,4] , S=['T','C', 'A', 'T', 'T'] )) #[4, 2, 1, 4, 4]\n",
    "\n",
    "print(solution(P =[0,1,2,3,4], Q=[1,2,3,4,4] , S=['T','C', 'A', 'T', 'T'] )) #[4, 2, 1, 4, 4] #[2, 1, 1, 4, 4]\n",
    "\n",
    "print(solution(P =[0,1,2,3,4], Q=[5,2,3,4,4] , S=['T','C', 'T', 'T', 'A'] )) #[4, 2, 1, 4, 4] #[1, 2, 4, 1, 1]\n",
    "\n"
   ]
  },
  {
   "cell_type": "code",
   "execution_count": 455,
   "metadata": {},
   "outputs": [
    {
     "data": {
      "text/plain": [
       "[0]"
      ]
     },
     "execution_count": 455,
     "metadata": {},
     "output_type": "execute_result"
    }
   ],
   "source": [
    "a =[0,1,2,3]\n",
    "a[0:1]"
   ]
  },
  {
   "cell_type": "code",
   "execution_count": null,
   "metadata": {},
   "outputs": [],
   "source": [
    "# mushroom picker (teoria del grupo 3 Prefix sums)\n",
    "#https://codility.com/media/train/3-PrefixSums.pdf\n"
   ]
  },
  {
   "cell_type": "code",
   "execution_count": 554,
   "metadata": {},
   "outputs": [],
   "source": [
    "def calc_prefix_sum(input_vector):\n",
    "    len_input = len(input_vector)\n",
    "    prefix_sums = [0 ] * (len_input-1)\n",
    "    for i in range(2, len_input+1):\n",
    "        #print(i)\n",
    "        to_sum = input_vector[:(i)]\n",
    "        #print(to_sum)\n",
    "        prefix_sums[i-2] = sum(to_sum)\n",
    "        #print('prefix_sums: ' + str(prefix_sums))\n",
    "    return prefix_sums\n",
    "\n"
   ]
  },
  {
   "cell_type": "code",
   "execution_count": 551,
   "metadata": {},
   "outputs": [
    {
     "name": "stdout",
     "output_type": "stream",
     "text": [
      "[3, 2, 3]\n"
     ]
    }
   ],
   "source": [
    "print(calc_prefix_sum([1,2,-1,1]))"
   ]
  },
  {
   "cell_type": "code",
   "execution_count": 35,
   "metadata": {},
   "outputs": [],
   "source": [
    "# 4.3 MinAvgTwoSlice\n",
    "def calc_prefix_sum(input_vector):\n",
    "    len_input = len(input_vector)\n",
    "    prefix_sums = [0] * (len_input)\n",
    "    prefix_sums[0] = input_vector[0] #keep the first element\n",
    "    for i in range(1, len_input): \n",
    "        prefix_sums[i] = prefix_sums[i-1] + input_vector[i]\n",
    "    return prefix_sums\n",
    "    \n",
    "\n",
    "\n",
    "def solution(A):\n",
    "    input_vector = A\n",
    "    len_input = len(input_vector)\n",
    "    if len_input == 2:\n",
    "        return 0\n",
    "    prefix_sums = calc_prefix_sum(input_vector) \n",
    "    min_avg = prefix_sums[1]/2\n",
    "    len_min_avg = 2\n",
    "    \n",
    "    best_start = 0\n",
    "    \n",
    "    for start in range(0, len_input-1) :\n",
    "        \n",
    "        for end in range(start +1, len(prefix_sums)) :\n",
    "            mult = 1\n",
    "            to_extract = 0\n",
    "            if start > 0:\n",
    "                to_extract = prefix_sums[start-1]\n",
    "            new_avg = (prefix_sums[end] - to_extract ) / (end-start+1)\n",
    "\n",
    "            if new_avg < min_avg:\n",
    "                min_avg = new_avg  \n",
    "                best_start = start\n",
    "    return best_start\n"
   ]
  },
  {
   "cell_type": "code",
   "execution_count": 613,
   "metadata": {},
   "outputs": [
    {
     "name": "stdout",
     "output_type": "stream",
     "text": [
      "1\n",
      "2\n",
      "3\n",
      "0\n",
      "1\n"
     ]
    }
   ],
   "source": [
    "print( solution ([2,-1,1]))#1 \n",
    "print( solution ([1,2,-1,1,3])) #2\n",
    "print( solution ([-1,1,3,-10,1])) #3\n",
    "print( solution ([-1,1])) #0\n",
    "print( solution ([4, 2, 2, 5, 1, 5, 8]))#1\n"
   ]
  },
  {
   "cell_type": "code",
   "execution_count": 34,
   "metadata": {},
   "outputs": [
    {
     "name": "stdout",
     "output_type": "stream",
     "text": [
      "[1, 3, 2, 3]\n"
     ]
    }
   ],
   "source": [
    "print(calc_prefix_sum([1,2,-1,1]))"
   ]
  },
  {
   "cell_type": "code",
   "execution_count": 136,
   "metadata": {},
   "outputs": [],
   "source": [
    "#math version optimizing previous solution\n",
    "\n",
    "def solution(A):\n",
    "    input_vector = A\n",
    "    len_input = len(input_vector)\n",
    "    last_position = len_input -1\n",
    "    #if len_input == 2:\n",
    "    #    return 0\n",
    "    min_avg = sum(input_vector[0:2])/2\n",
    "    #print('1st min avg: ' + str(min_avg))\n",
    "    len_min_avg = 2\n",
    "    best_start = 0\n",
    "    \n",
    "    for start in range(0, last_position):\n",
    "        #print('--start----' +str(start))\n",
    "        end_2 = start + 2\n",
    "        end_3 = start + 3\n",
    "\n",
    "        for end in [end_2, end_3]: #should evaluate 2 and 3 elems (+ 1 range doesnt include the last elem)\n",
    "            \n",
    "            if start == last_position - 1 : #len tiene uno mas q el indice del elemento len=3 esta en pos =3\n",
    "                end = end_2\n",
    "            \n",
    "            #print(end)\n",
    "            sub_input = input_vector[start:end]\n",
    "            #print(sub_input)\n",
    "            div = (end-start)\n",
    "            #print('div: ' +str(div))\n",
    "            new_avg = sum (sub_input) / div\n",
    "            if new_avg < min_avg:\n",
    "                min_avg = new_avg  \n",
    "                #print('min_avg: ' + str(min_avg))\n",
    "                best_start = start\n",
    "                if end == end_2:\n",
    "                    len_min_avg = 2\n",
    "                else:\n",
    "                    len_min_avg = 3\n",
    "\n",
    "    #print('best_start: ' + str(best_start) + ' - len_min_avg: ' + str(len_min_avg))\n",
    "    return best_start\n"
   ]
  },
  {
   "cell_type": "code",
   "execution_count": 138,
   "metadata": {},
   "outputs": [
    {
     "name": "stdout",
     "output_type": "stream",
     "text": [
      "0\n",
      "0\n",
      "1\n",
      "2\n",
      "3\n",
      "3\n",
      "1\n",
      "2\n",
      "1\n",
      "2\n",
      "0\n",
      "0\n",
      "1\n",
      "0\n"
     ]
    }
   ],
   "source": [
    "print( solution ([-1,1])) #0\n",
    "print( solution ([-1,1,-2])) #0 seq 2\n",
    "print( solution ([2,-1,1]))#1 , seq 2\n",
    "print( solution ([1,2,-1,1,3])) #2, seq 2\n",
    "print( solution ([-1,1,3,-10,1])) #3, seq 2\n",
    "print( solution ([-1,1,3,-10,1,-5])) #3, seq 3\n",
    "print( solution ([4, 2, 2, 5, 1, 5, 8]))#1 seq 2\n",
    "print( solution ([ 1, 5, 3,-1]))#2 seq 2\n",
    "print( solution ([ 3, -1, 3,-1]))#1 seq 3 \n",
    "print( solution ([ 1, 1,-1, 3,-3]))#2 seq de 3\n",
    "print( solution ([-1,1,2,3,-1,3])) #0 seq 2\n",
    "\n",
    "print( solution ([-1,0,-2,0])) #0 seq 3\n",
    "\n",
    "print( solution ([1,-1,0,-1])) #1 seq 3\n",
    "\n",
    "\n",
    "print( solution ([1,1,1,1])) #0 seq 2"
   ]
  },
  {
   "cell_type": "code",
   "execution_count": 147,
   "metadata": {},
   "outputs": [],
   "source": [
    "#5.4\n",
    "#Passingcars\n",
    "def solution(A):\n",
    "    input_vector = A\n",
    "    len_input_vector = len(input_vector)\n",
    "    last_position_input_vector = len_input_vector -1\n",
    "    zeros_count = 0\n",
    "    pairs = 0\n",
    "    for i in range(0, len_input_vector): #range excludes last elem\n",
    "        if input_vector[i] == 0:\n",
    "            zeros_count += 1 \n",
    "        if input_vector[i] == 1:\n",
    "            pairs += zeros_count\n",
    "    if pairs >1000000000:\n",
    "        pairs = -1\n",
    "    return pairs        \n",
    "\n",
    "\n",
    "\n",
    "\n"
   ]
  },
  {
   "cell_type": "code",
   "execution_count": 148,
   "metadata": {},
   "outputs": [
    {
     "name": "stdout",
     "output_type": "stream",
     "text": [
      "0\n",
      "5\n",
      "0\n",
      "1\n",
      "0\n"
     ]
    }
   ],
   "source": [
    "print(solution([0,0,0])) #0\n",
    "print(solution([0,1,0,1,1]))#5\n",
    "print(solution([1,1,1])) #0\n",
    "print(solution([0,1]))#1\n",
    "print(solution([1,0]))#0\n"
   ]
  }
 ],
 "metadata": {
  "kernelspec": {
   "display_name": "Python 3",
   "language": "python",
   "name": "python3"
  },
  "language_info": {
   "codemirror_mode": {
    "name": "ipython",
    "version": 3
   },
   "file_extension": ".py",
   "mimetype": "text/x-python",
   "name": "python",
   "nbconvert_exporter": "python",
   "pygments_lexer": "ipython3",
   "version": "3.9.1"
  }
 },
 "nbformat": 4,
 "nbformat_minor": 2
}
